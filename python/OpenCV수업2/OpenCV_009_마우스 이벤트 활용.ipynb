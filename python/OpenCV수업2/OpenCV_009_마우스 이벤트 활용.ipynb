{
 "cells": [
  {
   "cell_type": "code",
   "execution_count": 1,
   "metadata": {},
   "outputs": [
    {
     "name": "stdout",
     "output_type": "stream",
     "text": [
      "[[396, 347], [618, 410], [540, 561], [398, 403]]\n",
      "[[396, 347], [618, 410], [540, 561], [398, 403]]\n"
     ]
    }
   ],
   "source": [
    "import cv2\n",
    "\n",
    "img = cv2.imread('images/03.jpeg')\n",
    "cv2.imshow('img', img)\n",
    "\n",
    "# 출력될 최종 이미지 크기\n",
    "width, height = 640, 240\n",
    "\n",
    "xy_list = [] # [[좌상 x, y], [우상 x, y], [우하 x, y] [좌하 x, y]]\n",
    "\n",
    "# 마우스 클릭 이벤트를 정의하는 함수\n",
    "def mouse_click(event, x, y, flags, param):\n",
    "    # event : 발생한 마우스 이벤트의 종류(ex. 클릭, 이동, 드래그 등)\n",
    "    # x, y : 이벤트가 발생한 위치의 좌표\n",
    "    # flags : 이벤트 발생시의 상태(ex. 어떤 키가 눌려있는지 등)\n",
    "    # param : 콜백 함수에 전달할 추가적인 인자\n",
    "\n",
    "    if event == cv2.EVENT_LBUTTONDOWN: # 마우스 좌클릭되면 실행\n",
    "        # 클릭한 좌표 출력\n",
    "        xy_list.append([x, y])\n",
    "    \n",
    "    if len(xy_list) == 4:\n",
    "        print(xy_list)\n",
    "\n",
    "cv2.imshow('img', img)\n",
    "cv2.namedWindow('img') # img 이름의 창을 생성\n",
    "\n",
    "# 'img'창에서 발생하는 마우스 이벤트를 mouse_click 함수와 연결\n",
    "# 이벤트 발생시 함수 실행\n",
    "cv2.setMouseCallback('img', mouse_click)\n",
    "\n",
    "cv2.waitKey(0)\n",
    "cv2.destroyAllWindows()"
   ]
  },
  {
   "cell_type": "code",
   "execution_count": 1,
   "metadata": {},
   "outputs": [
    {
     "ename": "",
     "evalue": "",
     "output_type": "error",
     "traceback": [
      "\u001b[1;31m현재 셀 또는 이전 셀에서 코드를 실행하는 동안 Kernel이 충돌했습니다. \n",
      "\u001b[1;31m셀의 코드를 검토하여 가능한 오류 원인을 식별하세요. \n",
      "\u001b[1;31m자세한 내용을 보려면 <a href='https://aka.ms/vscodeJupyterKernelCrash'>여기</a>를 클릭하세요. \n",
      "\u001b[1;31m자세한 내용은 Jupyter <a href='command:jupyter.viewOutput'>로그</a>를 참조하세요."
     ]
    }
   ],
   "source": [
    "import cv2\n",
    "import numpy as np\n",
    "\n",
    "img = cv2.imread('images/03.jpeg')\n",
    "cv2.imshow('img', img)\n",
    "\n",
    "\n",
    "width, height = 640, 240\n",
    "\n",
    "xy_list = [] \n",
    "\n",
    "def mouse_click(event, x, y, flags, param):\n",
    "    if event == cv2.EVENT_LBUTTONDOWN: # 마우스 좌클릭되면 실행\n",
    "        xy_list.append([x, y])\n",
    "        # 클릭한 좌표에 원 그리기\n",
    "        cv2.circle(img, (x, y), 5, (0, 255, 0), -1)\n",
    "        cv2.imshow('img', img)\n",
    "        if len(xy_list) == 4:\n",
    "            crop_image(640, 240) # 좌상, 우상, 우하, 좌하의 값이 있을때 해당영역을 직사각형으로 만들기\n",
    "\n",
    "# 4개의 점이 있을때 해당 영역 잘라서 직사각형의 형태로 만들기\n",
    "def crop_image(width, height):\n",
    "    # 4개의 값 가져오기, np.array로 형식 변경\n",
    "    src = np.array(xy_list, np.float32)\n",
    "    # 변환후의 이미지 크기의 좌표를 미리 생성\n",
    "    dst = np.array([[0, 0], [width, 0], [width, height], [0, height]], np.float32)\n",
    "    # 원근변환을 적용하여 이미지 변환 > 사다리꼴을 직사각형으로 만들겠다\n",
    "    # 1) 원근 변환 행렬 > 직사각형으로 만들기 위해 직사각형의 행렬 제작\n",
    "    matrix = cv2.getPerspectiveTransform(src, dst)\n",
    "    # 2) 원근 변환 적용 > 이미지를 직사각형 모양으로 변환\n",
    "    result = cv2.warpPerspective(img, matrix, (width, height))\n",
    "    cv2.imshow('result', result)\n",
    "\n",
    "cv2.imshow('img', img)\n",
    "cv2.namedWindow('img') # img 이름의 창을 생성\n",
    "cv2.setMouseCallback('img', mouse_click)\n",
    "cv2.waitKey(0)\n",
    "cv2.destroyAllWindows()"
   ]
  }
 ],
 "metadata": {
  "kernelspec": {
   "display_name": "myenv",
   "language": "python",
   "name": "python3"
  },
  "language_info": {
   "codemirror_mode": {
    "name": "ipython",
    "version": 3
   },
   "file_extension": ".py",
   "mimetype": "text/x-python",
   "name": "python",
   "nbconvert_exporter": "python",
   "pygments_lexer": "ipython3",
   "version": "3.11.7"
  }
 },
 "nbformat": 4,
 "nbformat_minor": 2
}
