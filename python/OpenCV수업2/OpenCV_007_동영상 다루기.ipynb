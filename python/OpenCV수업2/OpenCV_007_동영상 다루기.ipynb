{
 "cells": [
  {
   "cell_type": "code",
   "execution_count": 5,
   "metadata": {},
   "outputs": [
    {
     "name": "stderr",
     "output_type": "stream",
     "text": [
      "[ WARN:0@2730.265] global /private/var/folders/k1/30mswbxs7r1g6zwn8y4fyt500000gp/T/abs_11nitadzeg/croot/opencv-suite_1691620374638/work/modules/videoio/src/cap_gstreamer.cpp (862) isPipelinePlaying OpenCV | GStreamer warning: GStreamer: pipeline have not been created\n",
      "2024-07-16 15:05:41.553 python[16781:197557] WARNING: AVCaptureDeviceTypeExternal is deprecated for Continuity Cameras. Please use AVCaptureDeviceTypeContinuityCamera and add NSCameraUseContinuityCameraDeviceType to your Info.plist.\n"
     ]
    },
    {
     "name": "stdout",
     "output_type": "stream",
     "text": [
      "사용자에 의해서 영상이 종료\n"
     ]
    },
    {
     "ename": "",
     "evalue": "",
     "output_type": "error",
     "traceback": [
      "\u001b[1;31m현재 셀 또는 이전 셀에서 코드를 실행하는 동안 Kernel이 충돌했습니다. \n",
      "\u001b[1;31m셀의 코드를 검토하여 가능한 오류 원인을 식별하세요. \n",
      "\u001b[1;31m자세한 내용을 보려면 <a href='https://aka.ms/vscodeJupyterKernelCrash'>여기</a>를 클릭하세요. \n",
      "\u001b[1;31m자세한 내용은 Jupyter <a href='command:jupyter.viewOutput'>로그</a>를 참조하세요."
     ]
    }
   ],
   "source": [
    "# 동영상 출력하기\n",
    "import cv2\n",
    "\n",
    "# 동영상 파일 불러오기 = 동영상 객체 생성\n",
    "video_path = 'videos/01.MOV'\n",
    "\n",
    "# 비디오는 보통 초당 30장의 사진으로 이루어져있음 -> 0.033초마다 한장의 사진을 본다\n",
    "cap = cv2.VideoCapture(video_path)\n",
    "\n",
    "# 비디오가 가지고 있는 여러 사진을 한장씩 불러와서 띄우기\n",
    "while True:\n",
    "    # 순서대로 사진 한장 가져오기\n",
    "    # ch : 사진을 읽으면 True, 못 읽으면 False를 반환\n",
    "    # frame : 읽어온 사진 한장\n",
    "    ch, frame = cap.read()\n",
    "\n",
    "    if not ch: # 사진을 못읽어왔다면 while문 종료\n",
    "        print('동영상 재생 끝 or 읽기 실패')\n",
    "        break\n",
    "\n",
    "    # 프레임을 읽었다\n",
    "    # video = 열릴 창의 이름\n",
    "    # frame = 창속에 담을 이미지\n",
    "    cv2.imshow('video', frame)\n",
    "    # 특정 시간만큼 키보드 입력을 기다리는 코드\n",
    "    # 0이 아닌 수를 적을 때 : 해당 숫자의 ms 만큼 대기 후 다음코드 진행\n",
    "    # 0 : 키보드 입력하면 다음 코드로 넘어감\n",
    "    key = cv2.waitKey(33) # time.sleep와 비슷\n",
    "    # 실행하면 동영상이 끝날 때까지 멈출 수 없다\n",
    "    if key == ord('q'):\n",
    "        print('사용자에 의해서 영상이 종료')\n",
    "        break\n",
    "\n",
    "# 비디오 객체 해제\n",
    "cap.release()\n",
    "\n",
    "# 파이썬으로 인해 윈도우에 열린 모든 창 종료\n",
    "cv2.destroyAllWindows()"
   ]
  },
  {
   "cell_type": "code",
   "execution_count": 5,
   "metadata": {},
   "outputs": [
    {
     "name": "stderr",
     "output_type": "stream",
     "text": [
      "[ WARN:0@322.200] global /private/var/folders/k1/30mswbxs7r1g6zwn8y4fyt500000gp/T/abs_11nitadzeg/croot/opencv-suite_1691620374638/work/modules/videoio/src/cap_gstreamer.cpp (2386) handleMessage OpenCV | GStreamer warning: your GStreamer installation is missing a required plugin\n",
      "\n",
      "(<unknown>:19891): GStreamer-CRITICAL **: 15:23:45.673: \n",
      "Trying to dispose element pipeline4, but it is in READY instead of the NULL state.\n",
      "You need to explicitly set elements to the NULL state before\n",
      "dropping the final reference, to allow them to clean up.\n",
      "This problem may also be caused by a refcounting bug in the\n",
      "application or some element.\n",
      "\n",
      "[ WARN:0@322.200] global /private/var/folders/k1/30mswbxs7r1g6zwn8y4fyt500000gp/T/abs_11nitadzeg/croot/opencv-suite_1691620374638/work/modules/videoio/src/cap_gstreamer.cpp (1356) open OpenCV | GStreamer warning: unable to start pipeline\n",
      "\n",
      "(<unknown>:19891): GStreamer-CRITICAL **: 15:23:45.673: \n",
      "Trying to dispose element videoconvert4, but it is in PAUSED instead of the NULL state.\n",
      "You need to explicitly set elements to the NULL state before\n",
      "dropping the final reference, to allow them to clean up.\n",
      "This problem may also be caused by a refcounting bug in the\n",
      "application or some element.\n",
      "\n",
      "\n",
      "(<unknown>:19891): GStreamer-CRITICAL **: 15:23:45.673: gst_element_post_message: assertion 'GST_IS_ELEMENT (element)' failed\n",
      "[ WARN:0@322.200] global /private/var/folders/k1/30mswbxs7r1g6zwn8y4fyt500000gp/T/abs_11nitadzeg/croot/opencv-suite_1691620374638/work/modules/videoio/src/cap_gstreamer.cpp (862) isPipelinePlaying OpenCV | GStreamer warning: GStreamer: pipeline have not been created\n",
      "\n",
      "(<unknown>:19891): GStreamer-CRITICAL **: 15:23:45.673: \n",
      "Trying to dispose element appsink4, but it is in READY instead of the NULL state.\n",
      "You need to explicitly set elements to the NULL state before\n",
      "dropping the final reference, to allow them to clean up.\n",
      "This problem may also be caused by a refcounting bug in the\n",
      "application or some element.\n",
      "\n"
     ]
    },
    {
     "name": "stdout",
     "output_type": "stream",
     "text": [
      "사용자에 의해서 영상이 종료\n"
     ]
    },
    {
     "ename": "",
     "evalue": "",
     "output_type": "error",
     "traceback": [
      "\u001b[1;31m현재 셀 또는 이전 셀에서 코드를 실행하는 동안 Kernel이 충돌했습니다. \n",
      "\u001b[1;31m셀의 코드를 검토하여 가능한 오류 원인을 식별하세요. \n",
      "\u001b[1;31m자세한 내용을 보려면 <a href='https://aka.ms/vscodeJupyterKernelCrash'>여기</a>를 클릭하세요. \n",
      "\u001b[1;31m자세한 내용은 Jupyter <a href='command:jupyter.viewOutput'>로그</a>를 참조하세요."
     ]
    }
   ],
   "source": [
    "# 동영상 캡처 기능 추가\n",
    "import cv2\n",
    "\n",
    "video_path = 'videos/01.MOV'\n",
    "cap = cv2.VideoCapture(video_path)\n",
    "cnt = 0\n",
    "\n",
    "while True:\n",
    "    ch, frame = cap.read()\n",
    "\n",
    "    if not ch:\n",
    "        print('동영상 재생 끝 or 읽기 실패')\n",
    "        break\n",
    "\n",
    "    cv2.imshow('video', frame)\n",
    "    key = cv2.waitKey(33)\n",
    "    if key == ord('q'):\n",
    "        print('사용자에 의해서 영상이 종료')\n",
    "        break\n",
    "    \n",
    "    if key == ord('w'):\n",
    "        # 캡처 기능 만들기\n",
    "        cnt += 1\n",
    "        cv2.imwrite(\n",
    "            f'videos/cap{cnt}.png', # 파일이 저장될 경로\n",
    "            frame, # 저장 될 값\n",
    "            params = [cv2.IMWRITE_PNG_COMPRESSION, 0] # 압축 속성\n",
    "        )\n",
    "\n",
    "cap.release()\n",
    "cv2.destroyAllWindows()"
   ]
  }
 ],
 "metadata": {
  "kernelspec": {
   "display_name": "OpenCV",
   "language": "python",
   "name": "python3"
  },
  "language_info": {
   "codemirror_mode": {
    "name": "ipython",
    "version": 3
   },
   "file_extension": ".py",
   "mimetype": "text/x-python",
   "name": "python",
   "nbconvert_exporter": "python",
   "pygments_lexer": "ipython3",
   "version": "3.11.9"
  }
 },
 "nbformat": 4,
 "nbformat_minor": 2
}
